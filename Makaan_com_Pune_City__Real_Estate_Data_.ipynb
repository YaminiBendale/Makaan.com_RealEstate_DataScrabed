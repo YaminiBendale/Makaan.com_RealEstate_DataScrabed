{
  "nbformat": 4,
  "nbformat_minor": 0,
  "metadata": {
    "colab": {
      "name": "Makaan.com_Pune City _Real Estate Data .ipynb",
      "provenance": [],
      "collapsed_sections": [],
      "include_colab_link": true
    },
    "kernelspec": {
      "name": "python3",
      "display_name": "Python 3"
    },
    "language_info": {
      "name": "python"
    }
  },
  "cells": [
    {
      "cell_type": "markdown",
      "metadata": {
        "id": "view-in-github",
        "colab_type": "text"
      },
      "source": [
        "<a href=\"https://colab.research.google.com/github/YaminiBendale/Makaan.com_RealEstate_DataScrabed/blob/main/Makaan_com_Pune_City__Real_Estate_Data_.ipynb\" target=\"_parent\"><img src=\"https://colab.research.google.com/assets/colab-badge.svg\" alt=\"Open In Colab\"/></a>"
      ]
    },
    {
      "cell_type": "markdown",
      "metadata": {
        "id": "FL8T7i35kceW"
      },
      "source": [
        "Importing all the needed modules"
      ]
    },
    {
      "cell_type": "code",
      "metadata": {
        "id": "bG9_uqByTaSd"
      },
      "source": [
        "#import all the packages\n",
        "\n",
        "import requests\n",
        "from bs4 import BeautifulSoup\n",
        "import pandas as pd\n",
        "import time\n",
        "from IPython.display import clear_output"
      ],
      "execution_count": 24,
      "outputs": []
    },
    {
      "cell_type": "markdown",
      "metadata": {
        "id": "9r3Y8t8VkkSW"
      },
      "source": [
        "Base url of the web page"
      ]
    },
    {
      "cell_type": "code",
      "metadata": {
        "id": "ZHxGQWQxTdRt"
      },
      "source": [
        "base_url = 'https://www.makaan.com/pune-residential-property/buy-property-in-pune-city?page='"
      ],
      "execution_count": 20,
      "outputs": []
    },
    {
      "cell_type": "code",
      "metadata": {
        "id": "qK33iGMaTgPE"
      },
      "source": [
        "owner_info= []\n",
        "seller_type = []\n",
        "bhk = []\n",
        "p= []\n",
        "s = []\n",
        "loc = []\n",
        "st = []\n",
        "pps = []"
      ],
      "execution_count": 25,
      "outputs": []
    },
    {
      "cell_type": "code",
      "metadata": {
        "id": "CfP1GhIqTrHQ"
      },
      "source": [
        "for i in range(1,51):\n",
        "  time.sleep(3)   # to give a pause between each requests\n",
        "  url = base_url+str(i)\n",
        "  req = requests.get(url)\n",
        "  soup = BeautifulSoup(req.text,'html')\n",
        "\n",
        "  #owner info\n",
        "  ow_info = soup.findAll('div',attrs={'class':'seller-info'})\n",
        "  for j in ow_info:\n",
        "    owner_info.append(j.a.span.text)\n",
        "  \n",
        "  #seller type\n",
        "  s_typ = soup.findAll('span',attrs={'class':'seller-type'})\n",
        "  for j in s_typ:\n",
        "    seller_type.append(j.text)\n",
        "  \n",
        "  #bhk info\n",
        "  bhk_info = soup.findAll('div',attrs={'class':'title-line'})\n",
        "  for j in bhk_info:\n",
        "    bhk.append(j.strong.span.text)\n",
        "\n",
        "  #price info\n",
        "  p_info = soup.findAll('div',attrs={'data-type':'price-link'})\n",
        "  for  j in p_info:\n",
        "    p.append(j.text)\n",
        "  \n",
        "  #size info\n",
        "  s_info = soup.findAll(\"td\",attrs={'class':'size'})\n",
        "  for j in s_info:\n",
        "    s.append(j.text)\n",
        "  \n",
        "  #location info\n",
        "  loc_info = soup.findAll('span',attrs={'itemprop':'addressLocality'})\n",
        "  for j in loc_info:\n",
        "    loc.append(j.text)\n",
        "  \n",
        "  #status info\n",
        "  st_info = soup.findAll('tr',attrs={'class':'hcol w44'})\n",
        "  for j in st_info:\n",
        "    st.append(j.text)\n",
        "\n",
        "  #price per sqft info\n",
        "  pps_info = soup.findAll('td',attrs={'class':'lbl rate'})\n",
        "  for j in pps_info:\n",
        "    pps.append(j.text)"
      ],
      "execution_count": 26,
      "outputs": []
    },
    {
      "cell_type": "markdown",
      "metadata": {
        "id": "_HZcsSX0k-kv"
      },
      "source": [
        "To make a data frame,\n",
        "  Cross checking the number of data to enter in each columns are same."
      ]
    },
    {
      "cell_type": "code",
      "metadata": {
        "id": "WmMiWI_8Tr9a",
        "colab": {
          "base_uri": "https://localhost:8080/"
        },
        "outputId": "c9f8387c-b1fc-4b2e-b448-04de958eb1cc"
      },
      "source": [
        "print('owner_info = ',len(owner_info))\n",
        "print('seller_type = ',len(seller_type))\n",
        "print('Bhk = ',len(bhk))\n",
        "print('p = ',len(p))\n",
        "print('s = ',len(s))\n",
        "print('loc = ',len(loc))\n",
        "print('st = ',len(st))\n",
        "print('pps = ',len(pps))"
      ],
      "execution_count": 27,
      "outputs": [
        {
          "output_type": "stream",
          "text": [
            "owner_info =  1000\n",
            "seller_type =  1000\n",
            "Bhk =  1000\n",
            "p =  1000\n",
            "s =  1000\n",
            "loc =  1000\n",
            "st =  1000\n",
            "pps =  1000\n"
          ],
          "name": "stdout"
        }
      ]
    },
    {
      "cell_type": "markdown",
      "metadata": {
        "id": "892B0QMElg4D"
      },
      "source": [
        "Making a data frame in tabular form using pandas"
      ]
    },
    {
      "cell_type": "code",
      "metadata": {
        "id": "SzH2MBOhTyId",
        "colab": {
          "base_uri": "https://localhost:8080/",
          "height": 412
        },
        "outputId": "8c8c5eb7-122e-4cf9-cc05-2780db97a4f5"
      },
      "source": [
        "data = pd.DataFrame({'SELLER INFO':owner_info,\n",
        "                     'SELLER TYPE':seller_type,\n",
        "                     'BHK':bhk,\n",
        "                     'PRICE':p,\n",
        "                     'Area in sqft':s,\n",
        "                     'LOCATION':loc,\n",
        "                     'STATUS':st,\n",
        "                     'PRICE PER SQ.FT':pps})\n",
        "data "
      ],
      "execution_count": 28,
      "outputs": [
        {
          "output_type": "execute_result",
          "data": {
            "text/html": [
              "<div>\n",
              "<style scoped>\n",
              "    .dataframe tbody tr th:only-of-type {\n",
              "        vertical-align: middle;\n",
              "    }\n",
              "\n",
              "    .dataframe tbody tr th {\n",
              "        vertical-align: top;\n",
              "    }\n",
              "\n",
              "    .dataframe thead th {\n",
              "        text-align: right;\n",
              "    }\n",
              "</style>\n",
              "<table border=\"1\" class=\"dataframe\">\n",
              "  <thead>\n",
              "    <tr style=\"text-align: right;\">\n",
              "      <th></th>\n",
              "      <th>SELLER INFO</th>\n",
              "      <th>SELLER TYPE</th>\n",
              "      <th>BHK</th>\n",
              "      <th>PRICE</th>\n",
              "      <th>Area in sqft</th>\n",
              "      <th>LOCATION</th>\n",
              "      <th>STATUS</th>\n",
              "      <th>PRICE PER SQ.FT</th>\n",
              "    </tr>\n",
              "  </thead>\n",
              "  <tbody>\n",
              "    <tr>\n",
              "      <th>0</th>\n",
              "      <td>Kiera Homes</td>\n",
              "      <td>BUILDER</td>\n",
              "      <td>1</td>\n",
              "      <td>20 L</td>\n",
              "      <td>500</td>\n",
              "      <td>Handewadi</td>\n",
              "      <td>Ready to moveConstruction Status</td>\n",
              "      <td>4,000 / sq ft</td>\n",
              "    </tr>\n",
              "    <tr>\n",
              "      <th>1</th>\n",
              "      <td>Aakar Realties</td>\n",
              "      <td>BUILDER</td>\n",
              "      <td>1</td>\n",
              "      <td>21.2 L</td>\n",
              "      <td>418</td>\n",
              "      <td>Alandi</td>\n",
              "      <td>Under ConstructionConstruction Status</td>\n",
              "      <td>5,074 / sq ft</td>\n",
              "    </tr>\n",
              "    <tr>\n",
              "      <th>2</th>\n",
              "      <td>The Unique Spaces</td>\n",
              "      <td>BUILDER</td>\n",
              "      <td>3</td>\n",
              "      <td>75.26 L</td>\n",
              "      <td>999</td>\n",
              "      <td>Ravet</td>\n",
              "      <td>Under ConstructionConstruction Status</td>\n",
              "      <td>7,534 / sq ft</td>\n",
              "    </tr>\n",
              "    <tr>\n",
              "      <th>3</th>\n",
              "      <td>Goel Ganga Developments</td>\n",
              "      <td>BUILDER</td>\n",
              "      <td>1</td>\n",
              "      <td>46 L</td>\n",
              "      <td>579</td>\n",
              "      <td>Undri</td>\n",
              "      <td>Under ConstructionConstruction Status</td>\n",
              "      <td>7,944 / sq ft</td>\n",
              "    </tr>\n",
              "    <tr>\n",
              "      <th>4</th>\n",
              "      <td>Nirman Developers</td>\n",
              "      <td>BUILDER</td>\n",
              "      <td>2</td>\n",
              "      <td>83.66 L</td>\n",
              "      <td>831</td>\n",
              "      <td>Kharadi</td>\n",
              "      <td>Under ConstructionConstruction Status</td>\n",
              "      <td>10,068 / sq ft</td>\n",
              "    </tr>\n",
              "    <tr>\n",
              "      <th>...</th>\n",
              "      <td>...</td>\n",
              "      <td>...</td>\n",
              "      <td>...</td>\n",
              "      <td>...</td>\n",
              "      <td>...</td>\n",
              "      <td>...</td>\n",
              "      <td>...</td>\n",
              "      <td>...</td>\n",
              "    </tr>\n",
              "    <tr>\n",
              "      <th>995</th>\n",
              "      <td>Proplinein</td>\n",
              "      <td>AGENT</td>\n",
              "      <td>2</td>\n",
              "      <td>57.5 L</td>\n",
              "      <td>1015</td>\n",
              "      <td>Wakad</td>\n",
              "      <td>Under ConstructionConstruction Status</td>\n",
              "      <td>5,665 / sq ft</td>\n",
              "    </tr>\n",
              "    <tr>\n",
              "      <th>996</th>\n",
              "      <td>Proplinein</td>\n",
              "      <td>AGENT</td>\n",
              "      <td>2</td>\n",
              "      <td>62 L</td>\n",
              "      <td>945</td>\n",
              "      <td>Wakad</td>\n",
              "      <td>Ready to moveConstruction Status</td>\n",
              "      <td>6,560 / sq ft</td>\n",
              "    </tr>\n",
              "    <tr>\n",
              "      <th>997</th>\n",
              "      <td>Proplinein</td>\n",
              "      <td>AGENT</td>\n",
              "      <td>2</td>\n",
              "      <td>62 L</td>\n",
              "      <td>945</td>\n",
              "      <td>Wakad</td>\n",
              "      <td>Ready to moveConstruction Status</td>\n",
              "      <td>6,560 / sq ft</td>\n",
              "    </tr>\n",
              "    <tr>\n",
              "      <th>998</th>\n",
              "      <td>Proplinein</td>\n",
              "      <td>AGENT</td>\n",
              "      <td>2</td>\n",
              "      <td>62 L</td>\n",
              "      <td>945</td>\n",
              "      <td>Wakad</td>\n",
              "      <td>Ready to moveConstruction Status</td>\n",
              "      <td>6,560 / sq ft</td>\n",
              "    </tr>\n",
              "    <tr>\n",
              "      <th>999</th>\n",
              "      <td>Nest real estate services</td>\n",
              "      <td>AGENT</td>\n",
              "      <td>3</td>\n",
              "      <td>67.31 L</td>\n",
              "      <td>1147</td>\n",
              "      <td>Hinjewadi</td>\n",
              "      <td>Under ConstructionConstruction Status</td>\n",
              "      <td>5,868 / sq ft</td>\n",
              "    </tr>\n",
              "  </tbody>\n",
              "</table>\n",
              "<p>1000 rows × 8 columns</p>\n",
              "</div>"
            ],
            "text/plain": [
              "                   SELLER INFO  ... PRICE PER SQ.FT\n",
              "0                  Kiera Homes  ...   4,000 / sq ft\n",
              "1               Aakar Realties  ...   5,074 / sq ft\n",
              "2            The Unique Spaces  ...   7,534 / sq ft\n",
              "3      Goel Ganga Developments  ...   7,944 / sq ft\n",
              "4            Nirman Developers  ...  10,068 / sq ft\n",
              "..                         ...  ...             ...\n",
              "995                 Proplinein  ...   5,665 / sq ft\n",
              "996                 Proplinein  ...   6,560 / sq ft\n",
              "997                 Proplinein  ...   6,560 / sq ft\n",
              "998                 Proplinein  ...   6,560 / sq ft\n",
              "999  Nest real estate services  ...   5,868 / sq ft\n",
              "\n",
              "[1000 rows x 8 columns]"
            ]
          },
          "metadata": {
            "tags": []
          },
          "execution_count": 28
        }
      ]
    },
    {
      "cell_type": "markdown",
      "metadata": {
        "id": "N6SoJHiVlw6U"
      },
      "source": [
        "Creating a csv file of the collected data"
      ]
    },
    {
      "cell_type": "code",
      "metadata": {
        "id": "DI7TukRvV06Z"
      },
      "source": [
        "data.to_csv('PuneCity_ApartmentData_makaan.csv',index=False)"
      ],
      "execution_count": 32,
      "outputs": []
    }
  ]
}